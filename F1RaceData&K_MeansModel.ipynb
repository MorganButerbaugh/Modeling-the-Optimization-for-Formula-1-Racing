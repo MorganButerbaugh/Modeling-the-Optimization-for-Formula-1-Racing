{
  "nbformat": 4,
  "nbformat_minor": 0,
  "metadata": {
    "colab": {
      "provenance": [],
      "authorship_tag": "ABX9TyPosFBxtYEb72bsVvNLwdjT",
      "include_colab_link": true
    },
    "kernelspec": {
      "name": "python3",
      "display_name": "Python 3"
    },
    "language_info": {
      "name": "python"
    }
  },
  "cells": [
    {
      "cell_type": "markdown",
      "metadata": {
        "id": "view-in-github",
        "colab_type": "text"
      },
      "source": [
        "<a href=\"https://colab.research.google.com/github/MorganButerbaugh/Modeling-the-Optimization-for-Formula-1-Racing/blob/main/F1RaceData%26K_MeansModel.ipynb\" target=\"_parent\"><img src=\"https://colab.research.google.com/assets/colab-badge.svg\" alt=\"Open In Colab\"/></a>"
      ]
    },
    {
      "cell_type": "markdown",
      "source": [
        "# Finding Pre-Race Data in Bahrain (2023)"
      ],
      "metadata": {
        "id": "KQjl_5HCzfgJ"
      }
    },
    {
      "cell_type": "code",
      "execution_count": null,
      "metadata": {
        "id": "3hcJQCBrUeR_"
      },
      "outputs": [],
      "source": [
        "!pip install fastf1\n",
        "import numpy as np\n",
        "import pandas as pd\n",
        "import seaborn as sns\n",
        "import matplotlib.pyplot as plt\n",
        "import fastf1 as f1\n",
        "import fastf1.plotting\n",
        "import scipy.stats as stats"
      ]
    },
    {
      "cell_type": "markdown",
      "source": [
        "# Loading Data"
      ],
      "metadata": {
        "id": "mb-BUpNBU5lR"
      }
    },
    {
      "cell_type": "code",
      "source": [
        "fp1 = f1.get_session(2023, 'Bahrain', 'FP1')\n",
        "fp1.load()\n",
        "fp1_laps = fp1.laps\n",
        "\n",
        "fp2 = f1.get_session(2023, 'Bahrain', 'FP2')\n",
        "fp2.load()\n",
        "fp2_laps = fp2.laps\n",
        "\n",
        "fp3 = f1.get_session(2023, 'Bahrain', 'FP3')\n",
        "fp3.load()\n",
        "fp3_laps = fp3.laps\n",
        "\n",
        "quali = f1.get_session(2023, 'Bahrain', 'Q')\n",
        "quali.load()\n",
        "quali_laps = quali.laps\n",
        "\n",
        "race = f1.get_session(2023, 'Bahrain', 'R')\n",
        "race.load()\n",
        "race_laps = race.laps"
      ],
      "metadata": {
        "id": "m2Jmz6knUnpd"
      },
      "execution_count": null,
      "outputs": []
    },
    {
      "cell_type": "markdown",
      "source": [
        "**Using all 3 Free Practice Sessions and Quailification Round**"
      ],
      "metadata": {
        "id": "PyLX85cyrI48"
      }
    },
    {
      "cell_type": "markdown",
      "source": [
        "# Building the DataFrame"
      ],
      "metadata": {
        "id": "V4NJlz_TVgXO"
      }
    },
    {
      "cell_type": "code",
      "source": [
        "df = pd.concat([fp1.laps, fp2.laps, fp3.laps, quali.laps])\n",
        "df.LapTime = df.LapTime.dt.total_seconds()\n",
        "df = df.reset_index()\n",
        "df = df[df.IsAccurate == True]\n",
        "df = df[df.TrackStatus == '1']\n",
        "df = df[df['Compound'] != 'UNKNOWN']\n",
        "df = df[df['Compound'] != 'TEST_UNKNOWN']\n",
        "df = df[df['Compound'] != 'nan']"
      ],
      "metadata": {
        "id": "zlznBvqzUnsn"
      },
      "execution_count": null,
      "outputs": []
    },
    {
      "cell_type": "code",
      "source": [
        "colors = {'SOFT': 'red', 'MEDIUM': 'gold', 'HARD': 'grey'}\n",
        "plt.figure(figsize = (10,4))\n",
        "sns.scatterplot(data = df, x = 'TyreLife', y = 'LapTime', hue = 'Compound', palette = colors)"
      ],
      "metadata": {
        "id": "L8dZ2T7SUnvb"
      },
      "execution_count": null,
      "outputs": []
    },
    {
      "cell_type": "code",
      "source": [
        "plt.figure(figsize = (8,12))\n",
        "plt.title('Laptime Distribution per Tyre Compound \\n Bahrain (2023)')\n",
        "sns.boxplot(data = df, x = 'Compound', y = 'LapTime', palette = colors)"
      ],
      "metadata": {
        "id": "l5hWLmGtUnyd"
      },
      "execution_count": null,
      "outputs": []
    },
    {
      "cell_type": "markdown",
      "source": [
        "# Filtering Data"
      ],
      "metadata": {
        "id": "NTMlNhYBXseW"
      }
    },
    {
      "cell_type": "code",
      "source": [
        "### SOFT\n",
        "\n",
        "sq1 = df[df.Compound == 'SOFT'].LapTime.quantile(0.25)\n",
        "sq3 = df[df.Compound == 'SOFT'].LapTime.quantile(0.75)\n",
        "sIQR = sq3-sq1\n",
        "s_ub = sq3 + 1.5*sIQR\n",
        "s_lb = sq1 - 1.5*sIQR\n",
        "\n",
        "### MEDIUM\n",
        "\n",
        "mq1 = df[df.Compound == 'MEDIUM'].LapTime.quantile(0.25)\n",
        "mq3 = df[df.Compound == 'MEDIUM'].LapTime.quantile(0.75)\n",
        "mIQR = mq3-mq1\n",
        "m_ub = mq3 + 1.5*mIQR\n",
        "m_lb = mq1 - 1.5*mIQR\n",
        "\n",
        "### HARD\n",
        "\n",
        "hq1 = df[df.Compound == 'HARD'].LapTime.quantile(0.25)\n",
        "hq3 = df[df.Compound == 'HARD'].LapTime.quantile(0.75)\n",
        "hIQR = hq3-hq1\n",
        "h_ub = hq3 + 1.5*hIQR\n",
        "h_lb = hq1 - 1.5*hIQR"
      ],
      "metadata": {
        "id": "EaBdzqsTWZqX"
      },
      "execution_count": null,
      "outputs": []
    },
    {
      "cell_type": "code",
      "source": [
        "lb_cat = {'SOFT': s_lb, 'MEDIUM': m_lb, 'HARD': h_lb}\n",
        "ub_cat = {'SOFT': s_ub, 'MEDIUM': m_ub, 'HARD': h_ub}\n",
        "\n",
        "def filter(row):\n",
        "  return (row['LapTime'] >= lb_cat[row['Compound']]) and (row['LapTime'] <= ub_cat[row['Compound']])\n",
        "\n",
        "df = df[df.apply(filter, axis = 1)]\n",
        "\n",
        "df = df[df.LapTime < 110]\n",
        "df = df[df.LapTime > 92]"
      ],
      "metadata": {
        "id": "ZsZKAXleWZnM"
      },
      "execution_count": null,
      "outputs": []
    },
    {
      "cell_type": "code",
      "source": [
        "colors = {'SOFT': 'red', 'MEDIUM': 'gold', 'HARD': 'grey'}\n",
        "plt.figure(figsize = (10,4))\n",
        "sns.scatterplot(data = df, x = 'TyreLife', y = 'LapTime', hue = 'Compound', palette = colors)"
      ],
      "metadata": {
        "id": "q4u-F_xUWZkR"
      },
      "execution_count": null,
      "outputs": []
    },
    {
      "cell_type": "markdown",
      "source": [
        "# Mean Laptime"
      ],
      "metadata": {
        "id": "Hr33DVmwptL4"
      }
    },
    {
      "cell_type": "code",
      "source": [
        "df.LapTime.mean()"
      ],
      "metadata": {
        "id": "AZAksxcypwOA"
      },
      "execution_count": null,
      "outputs": []
    },
    {
      "cell_type": "markdown",
      "source": [
        "# Linear Regression"
      ],
      "metadata": {
        "id": "7HvzPmstXygM"
      }
    },
    {
      "cell_type": "code",
      "source": [
        "from sklearn import linear_model\n",
        "from sklearn.model_selection import train_test_split\n",
        "from sklearn.metrics import mean_squared_error, r2_score"
      ],
      "metadata": {
        "id": "hbRhM7tVWZhX"
      },
      "execution_count": null,
      "outputs": []
    },
    {
      "cell_type": "markdown",
      "source": [
        "## Division of Data Based on Tyre Compound"
      ],
      "metadata": {
        "id": "M8IyEVu0X61h"
      }
    },
    {
      "cell_type": "code",
      "source": [
        "df_s = df[df.Compound == 'SOFT'][['TyreLife', 'LapTime']]\n",
        "df_m = df[df.Compound =='MEDIUM'][['TyreLife', 'LapTime']]\n",
        "df_h = df[df.Compound == 'HARD'][['TyreLife', 'LapTime']]"
      ],
      "metadata": {
        "id": "H3024TrCWZeo"
      },
      "execution_count": null,
      "outputs": []
    },
    {
      "cell_type": "code",
      "source": [
        "xs_train, xs_test, ys_train, ys_test = train_test_split(df_s.TyreLife, df_s.LapTime, test_size = 0.2)\n",
        "xm_train, xm_test, ym_train, ym_test = train_test_split(df_m.TyreLife, df_m.LapTime, test_size = 0.2)\n",
        "xh_train, xh_test, yh_train, yh_test = train_test_split(df_h.TyreLife, df_h.LapTime, test_size = 0.2)\n",
        "\n",
        "xs_train = xs_train.values.reshape(-1, 1)\n",
        "xs_test = xs_test.values.reshape(-1, 1)\n",
        "xm_train = xm_train.values.reshape(-1, 1)\n",
        "xm_test = xm_test.values.reshape(-1, 1)\n",
        "xh_train = xh_train.values.reshape(-1, 1)\n",
        "xh_test = xh_test.values.reshape(-1, 1)\n",
        "\n",
        "ys_train = ys_train.values.reshape(-1, 1)\n",
        "ys_test = ys_test.values.reshape(-1, 1)\n",
        "ym_train = ym_train.values.reshape(-1, 1)\n",
        "ym_test = ym_test.values.reshape(-1, 1)\n",
        "yh_train = yh_train.values.reshape(-1, 1)\n",
        "yh_test = yh_test.values.reshape(-1, 1)"
      ],
      "metadata": {
        "id": "be9CwgKMX54e"
      },
      "execution_count": null,
      "outputs": []
    },
    {
      "cell_type": "markdown",
      "source": [
        "## LR for Soft Tyres"
      ],
      "metadata": {
        "id": "iL79cP39YDbP"
      }
    },
    {
      "cell_type": "code",
      "source": [
        "reg_s = linear_model.LinearRegression()\n",
        "reg_s.fit(xs_train, ys_train)\n",
        "pred_s = reg_s.predict(xs_test)\n",
        "\n",
        "# print(\"Coefficients: \\n\", reg_s.coef_)\n",
        "print(\"Mean Squared Error: %.2f\" % mean_squared_error(ys_test, pred_s))\n",
        "print(\"R-Squared: %.2f\" % r2_score(ys_test, pred_s))\n",
        "print(f\"Training score: {reg_s.score(xs_train, ys_train)*100}%\")\n",
        "print(f\"Testing score: {reg_s.score(ys_test, pred_s)*100}%\")"
      ],
      "metadata": {
        "id": "mZV4CRypWZbP"
      },
      "execution_count": null,
      "outputs": []
    },
    {
      "cell_type": "code",
      "source": [
        "print(\"Equation: LapTime = {:.2f} * TyreLife + {:.2f}\".format(reg_s.coef_[0][0], reg_s.intercept_[0]))"
      ],
      "metadata": {
        "id": "vIb2BwGgWZYL"
      },
      "execution_count": null,
      "outputs": []
    },
    {
      "cell_type": "code",
      "source": [
        "r_s, p_s = stats.pearsonr(xs_test.ravel(), ys_test.ravel())\n",
        "r_sq_s = reg_s.score(xs_test, ys_test)\n",
        "\n",
        "print(\"Pearson correlation coefficient (r):\", r_s)\n",
        "print(\"Pearson correlation coefficient squated (R^2):\", r_sq_s)\n",
        "print(\"P-value:\", p_s)"
      ],
      "metadata": {
        "id": "yaG7GqIGWZUr"
      },
      "execution_count": null,
      "outputs": []
    },
    {
      "cell_type": "code",
      "source": [
        "plt.figure(figsize = (10,6))\n",
        "sns.regplot(data = df_s, x = 'TyreLife', y = 'LapTime', scatter_kws={'color':'red'}, line_kws={'color':'blue'})\n",
        "plt.xlabel('Tyre Life (laps)')\n",
        "plt.ylabel('Lap Time (seconds)')\n",
        "plt.title('Lap Time vs Tyre Life for SOFT Tyres \\n Bahrain (2023)')\n",
        "\n",
        "r_s, p_s = stats.pearsonr(xs_test.ravel(), ys_test.ravel())\n",
        "r_sq_s = reg_s.score(xs_test, ys_test)\n",
        "\n",
        "plt.text(0.79, 0.2, f'r = {r_s:.3f}', horizontalalignment='left', verticalalignment='center', transform=plt.gca().transAxes)\n",
        "plt.text(0.79, 0.15, f'R^2 = {r_sq_s:.3f}', horizontalalignment='left', verticalalignment='center', transform=plt.gca().transAxes)\n",
        "plt.text(0.79, 0.1, f'p-value = {p_s: .3e}', horizontalalignment='left', verticalalignment='center', transform=plt.gca().transAxes)\n",
        "\n",
        "plt.show()"
      ],
      "metadata": {
        "id": "OE8tC8r2Un1V"
      },
      "execution_count": null,
      "outputs": []
    },
    {
      "cell_type": "markdown",
      "source": [
        "## LR for Medium Tyres"
      ],
      "metadata": {
        "id": "8Nsimhr3YLnt"
      }
    },
    {
      "cell_type": "code",
      "source": [
        "reg_m = linear_model.LinearRegression()\n",
        "reg_m.fit(xm_train, ym_train)\n",
        "pred_m = reg_m.predict(xm_test)\n",
        "\n",
        "# print(\"Coefficients: \\n\", pred_m.coef_)\n",
        "print(\"Mean Squared Error: %.2f\" % mean_squared_error(ym_test, pred_m))\n",
        "print(\"R-Squared: %.2f\" % r2_score(ym_test, pred_m))\n",
        "print(f\"Training score: {reg_m.score(xm_train, ym_train)*100}%\")\n",
        "print(f\"Testing score: {reg_m.score(ym_test, pred_m)*100}%\")"
      ],
      "metadata": {
        "id": "CSY7ojXCYLei"
      },
      "execution_count": null,
      "outputs": []
    },
    {
      "cell_type": "code",
      "source": [
        "print(\"Equation: LapTime = {:.2f} * TyreLife + {:.2f}\".format(reg_m.coef_[0][0], reg_m.intercept_[0]))"
      ],
      "metadata": {
        "id": "yCBIEW2LYLbW"
      },
      "execution_count": null,
      "outputs": []
    },
    {
      "cell_type": "code",
      "source": [
        "r_m, p_m = stats.pearsonr(xm_test.ravel(), ym_test.ravel())\n",
        "r_sq_m = reg_m.score(xm_test, ym_test)\n",
        "\n",
        "print(\"Pearson correlation coefficient (r):\", r_m)\n",
        "print(\"Pearson correlation coefficient squated (R^2):\", r_sq_m)\n",
        "print(\"P-value:\", p_m)"
      ],
      "metadata": {
        "id": "BzYTB6v3YLYe"
      },
      "execution_count": null,
      "outputs": []
    },
    {
      "cell_type": "code",
      "source": [
        "plt.figure(figsize = (10,6))\n",
        "sns.regplot(data = df_m, x = 'TyreLife', y = 'LapTime', scatter_kws={'color':'gold'}, line_kws={'color':'blue'})\n",
        "plt.xlabel('Tyre Life (laps)')\n",
        "plt.ylabel('Lap Time (seconds)')\n",
        "plt.title('Lap Time vs Tyre Life for MEDIUM Tyres \\n Bahrain (2023)')\n",
        "\n",
        "r_m, p_m = stats.pearsonr(xm_test.ravel(), ym_test.ravel())\n",
        "r_sq_m = reg_m.score(xm_test, ym_test)\n",
        "\n",
        "plt.text(0.79, 0.2, f'r = {r_m:.3f}', horizontalalignment='left', verticalalignment='center', transform=plt.gca().transAxes)\n",
        "plt.text(0.79, 0.15, f'R^2 = {r_sq_m:.3f}', horizontalalignment='left', verticalalignment='center', transform=plt.gca().transAxes)\n",
        "plt.text(0.79, 0.1, f'p-value = {p_m: .3e}', horizontalalignment='left', verticalalignment='center', transform=plt.gca().transAxes)\n",
        "\n",
        "plt.show()"
      ],
      "metadata": {
        "id": "_4NCd_PPYLVx"
      },
      "execution_count": null,
      "outputs": []
    },
    {
      "cell_type": "markdown",
      "source": [
        "## LR for Hard Tyres"
      ],
      "metadata": {
        "id": "kqMCBvaoYVV2"
      }
    },
    {
      "cell_type": "code",
      "source": [
        "reg_h = linear_model.LinearRegression()\n",
        "reg_h.fit(xh_train, yh_train)\n",
        "pred_h = reg_h.predict(xh_test)\n",
        "\n",
        "# print(\"Coefficients: \\n\", reg_h.coef_)\n",
        "print(\"Mean Squared Error: %.2f\" % mean_squared_error(yh_test, pred_h))\n",
        "print(\"R-Squared: %.2f\" % r2_score(yh_test, pred_h))\n",
        "print(f\"Training score: {reg_h.score(xh_train, yh_train)*100}%\")\n",
        "print(f\"Testing score: {reg_h.score(yh_test, pred_h)*100}%\")"
      ],
      "metadata": {
        "id": "A538mdY0YLTY"
      },
      "execution_count": null,
      "outputs": []
    },
    {
      "cell_type": "code",
      "source": [
        "print(\"Equation: LapTime = {:.2f} * TyreLife + {:.2f}\".format(reg_h.coef_[0][0], reg_h.intercept_[0]))"
      ],
      "metadata": {
        "id": "l_DMBp0bYLQk"
      },
      "execution_count": null,
      "outputs": []
    },
    {
      "cell_type": "code",
      "source": [
        "r_h, p_h = stats.pearsonr(xh_test.ravel(), yh_test.ravel())\n",
        "r_sq_h = reg_h.score(xh_test, yh_test)\n",
        "\n",
        "print(\"Pearson correlation coefficient (r):\", r_h)\n",
        "print(\"Pearson correlation coefficient squated (R^2):\", r_sq_h)\n",
        "print(\"P-value:\", p_h)"
      ],
      "metadata": {
        "id": "m3Og0HAiYLN5"
      },
      "execution_count": null,
      "outputs": []
    },
    {
      "cell_type": "code",
      "source": [
        "plt.figure(figsize = (10,6))\n",
        "sns.regplot(data = df_h, x = 'TyreLife', y = 'LapTime', scatter_kws={'color':'grey'}, line_kws={'color':'blue'})\n",
        "plt.xlabel('Tyre Life (laps)')\n",
        "plt.ylabel('Lap Time (seconds)')\n",
        "plt.title('Lap Time vs Tyre Life for HARD Tyres \\n Bahrain (2023)')\n",
        "\n",
        "r_h, p_h = stats.pearsonr(xh_test.ravel(), yh_test.ravel())\n",
        "r_sq_h = reg_h.score(xh_test, yh_test)\n",
        "\n",
        "plt.text(0.79, 0.2, f'r = {r_h:.3f}', horizontalalignment='left', verticalalignment='center', transform=plt.gca().transAxes)\n",
        "plt.text(0.79, 0.15, f'R^2 = {r_sq_h:.3f}', horizontalalignment='left', verticalalignment='center', transform=plt.gca().transAxes)\n",
        "plt.text(0.79, 0.1, f'p-value = {p_h: .3e}', horizontalalignment='left', verticalalignment='center', transform=plt.gca().transAxes)\n",
        "\n",
        "plt.show()"
      ],
      "metadata": {
        "id": "Gi7nTpWbYLLI"
      },
      "execution_count": null,
      "outputs": []
    },
    {
      "cell_type": "markdown",
      "source": [
        "-----------"
      ],
      "metadata": {
        "id": "tUndwxjmqNec"
      }
    },
    {
      "cell_type": "markdown",
      "source": [
        "# Mean PitStop Time Estimation"
      ],
      "metadata": {
        "id": "QvqZCHb8YcBt"
      }
    },
    {
      "cell_type": "code",
      "source": [
        "pits = race.laps[['PitInTime', 'PitOutTime']]\n",
        "pits = pits.reset_index()\n",
        "pits = pits.dropna(how = 'all')\n",
        "pits['PitOutTime'] = pits['PitOutTime'].shift(-1)\n",
        "pits = pits.dropna()\n",
        "pits['PitTime'] = (pits.PitOutTime - pits.PitInTime).dt.total_seconds()\n",
        "\n",
        "q1 = pits.PitTime.quantile(0.25)\n",
        "q3 = pits.PitTime.quantile(0.75)\n",
        "iqr = q3 - q1\n",
        "lower_bound = q1 - (1.5 * iqr)\n",
        "upper_bound = q3 + (1.5 * iqr)\n",
        "\n",
        "pits = pits[(pits.PitTime >= lower_bound) & (pits.PitTime <= upper_bound)]"
      ],
      "metadata": {
        "id": "Y5nBe5k1YLIm"
      },
      "execution_count": null,
      "outputs": []
    },
    {
      "cell_type": "code",
      "source": [
        "print(pits.PitTime.mean())"
      ],
      "metadata": {
        "id": "g4MUG83mn9Gh"
      },
      "execution_count": null,
      "outputs": []
    },
    {
      "cell_type": "markdown",
      "source": [
        "--------------"
      ],
      "metadata": {
        "id": "cgNug15nqUAD"
      }
    },
    {
      "cell_type": "markdown",
      "source": [
        "# Top Race Time"
      ],
      "metadata": {
        "id": "X3i3TCfdYl25"
      }
    },
    {
      "cell_type": "code",
      "source": [
        "top_df = race.laps[race.laps.Driver == 'VER']\n",
        "\n",
        "top_df.LapTime = top_df.LapTime.dt.total_seconds()"
      ],
      "metadata": {
        "id": "OqV8fvesYLGF"
      },
      "execution_count": null,
      "outputs": []
    },
    {
      "cell_type": "code",
      "source": [
        "top_df.LapTime.sum()"
      ],
      "metadata": {
        "id": "c8WeW-9kYLDi"
      },
      "execution_count": null,
      "outputs": []
    },
    {
      "cell_type": "markdown",
      "source": [
        "---------------"
      ],
      "metadata": {
        "id": "-01TuRuiqVta"
      }
    },
    {
      "cell_type": "markdown",
      "source": [
        "# Tyre Compound Graphs"
      ],
      "metadata": {
        "id": "iCJDEdTKY2Y1"
      }
    },
    {
      "cell_type": "code",
      "source": [
        "fp1_age = fp1_laps[fp1_laps.Driver.isin(['VER', 'SAI', 'BOT', 'GAS'])].groupby(['Driver', 'Stint', 'Compound']).TyreLife.min().reset_index()\n",
        "fp2_age = fp2_laps[fp2_laps.Driver.isin(['VER', 'SAI', 'BOT', 'GAS'])].groupby(['Driver', 'Stint', 'Compound']).TyreLife.min().reset_index()\n",
        "fp3_age = fp3_laps[fp3_laps.Driver.isin(['VER', 'SAI', 'BOT', 'GAS'])].groupby(['Driver', 'Stint', 'Compound']).TyreLife.min().reset_index()\n",
        "quali_age = quali_laps[quali_laps.Driver.isin(['VER', 'SAI', 'BOT', 'GAS'])].groupby(['Driver', 'Stint', 'Compound']).TyreLife.min().reset_index()\n",
        "\n",
        "fp1_age = fp1_age[fp1_age.TyreLife == 1.0]\n",
        "fp1_age['Session'] = 'FP1'\n",
        "\n",
        "fp2_age = fp2_age[fp2_age.TyreLife == 1.0]\n",
        "fp2_age['Session'] = 'FP2'\n",
        "\n",
        "fp3_age = fp3_age[fp3_age.TyreLife == 1.0]\n",
        "fp3_age['Session'] = 'FP3'\n",
        "\n",
        "quali_age = quali_age[quali_age.TyreLife == 1.0]\n",
        "quali_age['Session'] = 'Q'\n",
        "\n",
        "tot_tyres = pd.concat([fp1_age, fp2_age, fp3_age, quali_age]).sort_values(by = ['Driver', 'Session']).reset_index()"
      ],
      "metadata": {
        "id": "DRN1AmVIY1zH"
      },
      "execution_count": null,
      "outputs": []
    },
    {
      "cell_type": "code",
      "source": [
        "tot_tyres"
      ],
      "metadata": {
        "id": "ZWiVhNVAY1w4"
      },
      "execution_count": null,
      "outputs": []
    },
    {
      "cell_type": "code",
      "source": [
        "fp1_drivers = fp1.drivers\n",
        "fp2_drivers = fp2.drivers\n",
        "fp3_drivers = fp3.drivers\n",
        "quali_drivers = quali.drivers"
      ],
      "metadata": {
        "id": "kXRGpQ4jY1uH"
      },
      "execution_count": null,
      "outputs": []
    },
    {
      "cell_type": "code",
      "source": [
        "fp1_drivers = [fp1.get_driver(driver)[\"Abbreviation\"] for driver in fp1_drivers]\n",
        "\n",
        "fp2_drivers = [fp2.get_driver(driver)[\"Abbreviation\"] for driver in fp2_drivers]\n",
        "\n",
        "fp3_drivers = [fp3.get_driver(driver)[\"Abbreviation\"] for driver in fp3_drivers]\n",
        "\n",
        "quali_drivers = [quali.get_driver(driver)[\"Abbreviation\"] for driver in quali_drivers]"
      ],
      "metadata": {
        "id": "FHSy3cHwY9bp"
      },
      "execution_count": null,
      "outputs": []
    },
    {
      "cell_type": "code",
      "source": [
        "fp1_stints = fp1_laps[[\"Driver\", \"Stint\", \"Compound\", \"LapNumber\"]]\n",
        "fp1_stints = fp1_stints.groupby([\"Driver\", \"Stint\", \"Compound\"])\n",
        "fp1_stints = fp1_stints.count().reset_index()\n",
        "\n",
        "fp2_stints = fp2_laps[[\"Driver\", \"Stint\", \"Compound\", \"LapNumber\"]]\n",
        "fp2_stints = fp2_stints.groupby([\"Driver\", \"Stint\", \"Compound\"])\n",
        "fp2_stints = fp2_stints.count().reset_index()\n",
        "\n",
        "fp3_stints = fp3_laps[[\"Driver\", \"Stint\", \"Compound\", \"LapNumber\"]]\n",
        "fp3_stints = fp3_stints.groupby([\"Driver\", \"Stint\", \"Compound\"])\n",
        "fp3_stints = fp3_stints.count().reset_index()\n",
        "\n",
        "quali_stints = quali_laps[[\"Driver\", \"Stint\", \"Compound\", \"LapNumber\"]]\n",
        "quali_stints = quali_stints.groupby([\"Driver\", \"Stint\", \"Compound\"])\n",
        "quali_stints = quali_stints.count().reset_index()"
      ],
      "metadata": {
        "id": "yXzDhuvvY9ZL"
      },
      "execution_count": null,
      "outputs": []
    },
    {
      "cell_type": "code",
      "source": [
        "fp1_stints = fp1_stints.rename(columns={\"LapNumber\": \"StintLength\"})\n",
        "fp2_stints = fp2_stints.rename(columns={\"LapNumber\": \"StintLength\"})\n",
        "fp3_stints = fp3_stints.rename(columns={\"LapNumber\": \"StintLength\"})\n",
        "quali_stints = quali_stints.rename(columns={\"LapNumber\": \"StintLength\"})"
      ],
      "metadata": {
        "id": "wR2slM2MY9Wx"
      },
      "execution_count": null,
      "outputs": []
    },
    {
      "cell_type": "code",
      "source": [
        "fig, ax = plt.subplots(figsize=(11, 5))\n",
        "\n",
        "for driver in fp1_drivers:\n",
        "    driver_stints = fp1_stints.loc[fp1_stints[\"Driver\"] == driver]\n",
        "\n",
        "    previous_stint_end = 0\n",
        "    for idx, row in driver_stints.iterrows():\n",
        "        # each row contains the compound name and stint length\n",
        "        # we can use these information to draw horizontal bars\n",
        "        plt.barh(\n",
        "            y=driver,\n",
        "            width=row[\"StintLength\"],\n",
        "            left=previous_stint_end,\n",
        "            color=fastf1.plotting.COMPOUND_COLORS[row[\"Compound\"]],\n",
        "            edgecolor=\"black\",\n",
        "            fill=True\n",
        "        )\n",
        "\n",
        "        previous_stint_end += row[\"StintLength\"]\n",
        "\n",
        "plt.title(\"2023 FP1 Bahrain Strategies\")\n",
        "plt.xlabel(\"Lap Number\")\n",
        "plt.grid(False)\n",
        "# invert the y-axis so drivers that finish higher are closer to the top\n",
        "ax.invert_yaxis()\n",
        "\n",
        "ax.spines['top'].set_visible(False)\n",
        "ax.spines['right'].set_visible(False)\n",
        "ax.spines['left'].set_visible(False)\n",
        "\n",
        "plt.tight_layout()\n",
        "plt.show()"
      ],
      "metadata": {
        "id": "H1NJCax8Y9UD"
      },
      "execution_count": null,
      "outputs": []
    },
    {
      "cell_type": "code",
      "source": [
        "fig, ax = plt.subplots(figsize=(11, 5))\n",
        "\n",
        "for driver in fp2_drivers:\n",
        "    driver_stints = fp2_stints.loc[fp2_stints[\"Driver\"] == driver]\n",
        "\n",
        "    previous_stint_end = 0\n",
        "    for idx, row in driver_stints.iterrows():\n",
        "        # each row contains the compound name and stint length\n",
        "        # we can use these information to draw horizontal bars\n",
        "        plt.barh(\n",
        "            y=driver,\n",
        "            width=row[\"StintLength\"],\n",
        "            left=previous_stint_end,\n",
        "            color=fastf1.plotting.COMPOUND_COLORS[row[\"Compound\"]],\n",
        "            edgecolor=\"black\",\n",
        "            fill=True\n",
        "        )\n",
        "\n",
        "        previous_stint_end += row[\"StintLength\"]\n",
        "\n",
        "plt.title(\"2023 FP2 Bahrain Strategies\")\n",
        "plt.xlabel(\"Lap Number\")\n",
        "plt.grid(False)\n",
        "# invert the y-axis so drivers that finish higher are closer to the top\n",
        "ax.invert_yaxis()\n",
        "\n",
        "ax.spines['top'].set_visible(False)\n",
        "ax.spines['right'].set_visible(False)\n",
        "ax.spines['left'].set_visible(False)\n",
        "\n",
        "plt.tight_layout()\n",
        "plt.show()"
      ],
      "metadata": {
        "id": "sYh1CpSBY9Rt"
      },
      "execution_count": null,
      "outputs": []
    },
    {
      "cell_type": "code",
      "source": [
        "fig, ax = plt.subplots(figsize=(11, 5))\n",
        "\n",
        "for driver in fp3_drivers:\n",
        "    driver_stints = fp3_stints.loc[fp3_stints[\"Driver\"] == driver]\n",
        "\n",
        "    previous_stint_end = 0\n",
        "    for idx, row in driver_stints.iterrows():\n",
        "        # each row contains the compound name and stint length\n",
        "        # we can use these information to draw horizontal bars\n",
        "        plt.barh(\n",
        "            y=driver,\n",
        "            width=row[\"StintLength\"],\n",
        "            left=previous_stint_end,\n",
        "            color=fastf1.plotting.COMPOUND_COLORS[row[\"Compound\"]],\n",
        "            edgecolor=\"black\",\n",
        "            fill=True\n",
        "        )\n",
        "\n",
        "        previous_stint_end += row[\"StintLength\"]\n",
        "\n",
        "plt.title(\"2023 FP3 Bahrain Strategies\")\n",
        "plt.xlabel(\"Lap Number\")\n",
        "plt.grid(False)\n",
        "# invert the y-axis so drivers that finish higher are closer to the top\n",
        "ax.invert_yaxis()\n",
        "\n",
        "ax.spines['top'].set_visible(False)\n",
        "ax.spines['right'].set_visible(False)\n",
        "ax.spines['left'].set_visible(False)\n",
        "\n",
        "plt.tight_layout()\n",
        "plt.show()"
      ],
      "metadata": {
        "id": "-gSuQpxJY9PK"
      },
      "execution_count": null,
      "outputs": []
    },
    {
      "cell_type": "code",
      "source": [
        "fig, ax = plt.subplots(figsize=(11, 5))\n",
        "\n",
        "for driver in quali_drivers:\n",
        "    driver_stints = quali_stints.loc[quali_stints[\"Driver\"] == driver]\n",
        "\n",
        "    previous_stint_end = 0\n",
        "    for idx, row in driver_stints.iterrows():\n",
        "        # each row contains the compound name and stint length\n",
        "        # we can use these information to draw horizontal bars\n",
        "        plt.barh(\n",
        "            y=driver,\n",
        "            width=row[\"StintLength\"],\n",
        "            left=previous_stint_end,\n",
        "            color=fastf1.plotting.COMPOUND_COLORS[row[\"Compound\"]],\n",
        "            edgecolor=\"black\",\n",
        "            fill=True\n",
        "        )\n",
        "\n",
        "        previous_stint_end += row[\"StintLength\"]\n",
        "\n",
        "plt.title(\"2023 Quali Bahrain Strategies\")\n",
        "plt.xlabel(\"Lap Number\")\n",
        "plt.grid(False)\n",
        "# invert the y-axis so drivers that finish higher are closer to the top\n",
        "ax.invert_yaxis()\n",
        "\n",
        "ax.spines['top'].set_visible(False)\n",
        "ax.spines['right'].set_visible(False)\n",
        "ax.spines['left'].set_visible(False)\n",
        "\n",
        "plt.tight_layout()\n",
        "plt.show()"
      ],
      "metadata": {
        "id": "J4f5F_D3Y9My"
      },
      "execution_count": null,
      "outputs": []
    },
    {
      "cell_type": "markdown",
      "source": [
        "------------"
      ],
      "metadata": {
        "id": "gKXCgjK7qasT"
      }
    },
    {
      "cell_type": "markdown",
      "source": [
        "# K-Means Model On All F1 Tracks for 2022 Qualifications"
      ],
      "metadata": {
        "id": "L3NQfopYzs5l"
      }
    },
    {
      "cell_type": "code",
      "source": [
        "!pip install fastf1\n",
        "import numpy as np\n",
        "import pandas as pd\n",
        "import seaborn as sns\n",
        "import matplotlib.pyplot as plt\n",
        "import fastf1 as f1\n",
        "import scipy.stats as stats"
      ],
      "metadata": {
        "id": "R_R4vi7BxnFd"
      },
      "execution_count": null,
      "outputs": []
    },
    {
      "cell_type": "code",
      "source": [
        "q_bar = f1.get_session(2022, 'Bahrain', 'Q')\n",
        "q_bar.load()\n",
        "\n",
        "q_jed = f1.get_session(2022, 'Saudi', 'Q')\n",
        "q_jed.load()\n",
        "\n",
        "q_aust = f1.get_session(2022, 'Australia', 'Q')\n",
        "q_aust.load()\n",
        "\n",
        "q_imo = f1.get_session(2022, 'Imola', 'Q')\n",
        "q_imo.load()\n",
        "\n",
        "q_mia = f1.get_session(2022, 'Miami', 'Q')\n",
        "q_mia.load()\n",
        "\n",
        "q_spa = f1.get_session(2022, 'Spain', 'Q')\n",
        "q_spa.load()\n",
        "\n",
        "q_mon = f1.get_session(2022, 'Monaco', 'Q')\n",
        "q_mon.load()\n",
        "\n",
        "q_bak = f1.get_session(2022, 'Baku', 'Q')\n",
        "q_bak.load()\n",
        "\n",
        "q_can = f1.get_session(2022, 'Canada', 'Q')\n",
        "q_can.load()\n",
        "\n",
        "q_uk = f1.get_session(2022, 'Silverstone', 'Q')\n",
        "q_uk.load()\n",
        "\n",
        "q_aus = f1.get_session(2022, 'Austria', 'Q')\n",
        "q_aus.load()\n",
        "\n",
        "q_fra = f1.get_session(2022, 'France', 'Q')\n",
        "q_fra.load()\n",
        "\n",
        "q_hun = f1.get_session(2022, 'Hungary', 'Q')\n",
        "q_hun.load()\n",
        "\n",
        "q_bel = f1.get_session(2022, 'Belgium', 'Q')\n",
        "q_bel.load()\n",
        "\n",
        "q_ned = f1.get_session(2022, 'Netherlands', 'Q')\n",
        "q_ned.load()\n",
        "\n",
        "q_ita = f1.get_session(2022, 'Monza', 'Q')\n",
        "q_ita.load()\n",
        "\n",
        "q_sin = f1.get_session(2022, 'Singapore', 'Q')\n",
        "q_sin.load()\n",
        "\n",
        "q_jap = f1.get_session(2022, 'Japan', 'Q')\n",
        "q_jap.load()\n",
        "\n",
        "q_usa = f1.get_session(2022, 'Austin', 'Q')\n",
        "q_usa.load()\n",
        "\n",
        "q_mex = f1.get_session(2022, 'Mexico', 'Q')\n",
        "q_mex.load()\n",
        "\n",
        "q_bra = f1.get_session(2022, 'Brazil', 'Q')\n",
        "q_bra.load()\n",
        "\n",
        "q_abu = f1.get_session(2022, 'Abu Dhabi', 'Q')\n",
        "q_abu.load()"
      ],
      "metadata": {
        "id": "mSkUpxFTxnDK"
      },
      "execution_count": null,
      "outputs": []
    },
    {
      "cell_type": "code",
      "source": [
        "quali = [q_bar, q_jed, q_aust, q_imo, q_mia, q_spa, q_mon, q_bak, q_can, q_uk, q_aus,\n",
        "         q_fra, q_hun, q_bel, q_ned, q_ita, q_sin, q_jap, q_usa, q_mex, q_bra, q_abu]"
      ],
      "metadata": {
        "id": "1wekDeph0FCa"
      },
      "execution_count": null,
      "outputs": []
    },
    {
      "cell_type": "code",
      "source": [
        "avg_speed = []\n",
        "top_speed = []\n",
        "throttle = []\n",
        "wcss = []"
      ],
      "metadata": {
        "id": "Mr7jlkQC0E_7"
      },
      "execution_count": null,
      "outputs": []
    },
    {
      "cell_type": "code",
      "source": [
        "for i in range(len(quali)):\n",
        "\n",
        "    q = quali[i].laps.pick_fastest().get_telemetry()\n",
        "\n",
        "    throttle.append((q[q.Throttle >= 95.0].Throttle.count()/q.Throttle.count()).round(2))\n",
        "    avg_speed.append(q.Speed.mean().round(2))\n",
        "    top_speed.append(q.Speed.max())"
      ],
      "metadata": {
        "id": "lqJX7iMK0E6Z"
      },
      "execution_count": null,
      "outputs": []
    },
    {
      "cell_type": "code",
      "source": [
        "event = ['Bahrain', 'Saudi Arabia', 'Australia', 'Emilia Romagna', 'Miami', 'Spain', 'Monaco', 'Azerbaijan', 'Canada', 'Britain',\n",
        "         'Austria', 'France', 'Hungary', 'Belgium', 'Netherlands', 'Monza', 'Singapore', 'Japan', 'Texas', 'Mexico',\n",
        "         'Brazil', 'UAE']"
      ],
      "metadata": {
        "id": "FsufCySp0E3l"
      },
      "execution_count": null,
      "outputs": []
    },
    {
      "cell_type": "code",
      "source": [
        "nary = {'Event': event, 'Top Speed': top_speed, 'AVG Speed': avg_speed, 'Full Throttle %' : throttle}"
      ],
      "metadata": {
        "id": "TqF_HLIh0yCp"
      },
      "execution_count": null,
      "outputs": []
    },
    {
      "cell_type": "code",
      "source": [
        "df = pd.DataFrame(nary)\n",
        "df = df[df.Event != 'Britain']\n",
        "df"
      ],
      "metadata": {
        "id": "4KbGIFt_0x_o"
      },
      "execution_count": null,
      "outputs": []
    },
    {
      "cell_type": "code",
      "source": [
        "from sklearn.cluster import KMeans\n",
        "import matplotlib.pyplot as plt"
      ],
      "metadata": {
        "id": "ukWKXKGP06Uj"
      },
      "execution_count": null,
      "outputs": []
    },
    {
      "cell_type": "code",
      "source": [
        "for i in range(1, 11):\n",
        "    kmeans = KMeans(n_clusters=i, init='k-means++', max_iter=300, n_init=10, random_state=0)\n",
        "    kmeans.fit(df.iloc[:, 1:])\n",
        "    wcss.append(kmeans.inertia_)\n",
        "\n",
        "plt.plot(range(1, 11), wcss)\n",
        "plt.title('Elbow Method')\n",
        "plt.xlabel('Number of clusters')\n",
        "plt.ylabel('WCSS')\n",
        "plt.show()"
      ],
      "metadata": {
        "id": "vyBqn03P0_0P"
      },
      "execution_count": null,
      "outputs": []
    },
    {
      "cell_type": "code",
      "source": [
        "kmeans = KMeans(n_clusters=4, init='k-means++', max_iter=300, n_init=10, random_state=0)\n",
        "y_pred = kmeans.fit_predict(df.iloc[:, 1:])\n",
        "\n",
        "df['Cluster'] = kmeans.labels_\n",
        "\n",
        "\n",
        "group1 = df[df.Cluster == 0]\n",
        "group2 = df[df.Cluster == 1]\n",
        "group3 = df[df.Cluster == 2]\n",
        "group4 = df[df.Cluster == 3]\n",
        "\n",
        "group1.mean(numeric_only=True).round(2)\n",
        "group2.mean(numeric_only=True).round(2)\n",
        "group3.mean(numeric_only=True).round(2)\n",
        "group4.mean(numeric_only=True).round(2)\n",
        "group2"
      ],
      "metadata": {
        "id": "J4PCJnHb0_xq"
      },
      "execution_count": null,
      "outputs": []
    },
    {
      "cell_type": "code",
      "source": [],
      "metadata": {
        "id": "UVtFKlWD06OA"
      },
      "execution_count": null,
      "outputs": []
    },
    {
      "cell_type": "code",
      "source": [],
      "metadata": {
        "id": "dRiRE6Cx06In"
      },
      "execution_count": null,
      "outputs": []
    },
    {
      "cell_type": "code",
      "source": [],
      "metadata": {
        "id": "4-SxaK6s06Da"
      },
      "execution_count": null,
      "outputs": []
    }
  ]
}